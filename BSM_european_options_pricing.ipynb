{
 "cells": [
  {
   "attachments": {},
   "cell_type": "markdown",
   "metadata": {},
   "source": [
    "**Black-Scholes Pricing Model with Greeks**\n",
    "\n",
    "Implementation of the **Black-Scholes model** for pricing European options and computing their sensitivities, known as **Greeks**.\n",
    "\n",
    "**Assumptions of the Black-Scholes Model**\n",
    "\n",
    "1. The stock price follows a **geometric Brownian motion** with constant drift $\\mu$ and volatility $\\sigma$.\n",
    "2. The risk-free interest rate $r$ is constant and known.\n",
    "3. No dividends are paid on the underlying asset.\n",
    "4. Markets are frictionless (no transaction costs, no arbitrage, continuous trading).\n",
    "5. The option is **European-style**, exercisable only at maturity $T$."
   ]
  },
  {
   "attachments": {},
   "cell_type": "markdown",
   "metadata": {},
   "source": [
    "**Importing Libraries**"
   ]
  },
  {
   "cell_type": "code",
   "execution_count": 4,
   "metadata": {},
   "outputs": [],
   "source": [
    "import numpy as np\n",
    "import pandas as pd\n",
    "import matplotlib.pyplot as plt\n",
    "import yfinance as yf\n",
    "from scipy.stats import norm\n",
    "from math import log, sqrt, exp\n",
    "import logging\n",
    "\n",
    "# Setup logging\n",
    "logging.basicConfig(level=logging.INFO, format='%(asctime)s - %(levelname)s - %(message)s')\n"
   ]
  },
  {
   "attachments": {},
   "cell_type": "markdown",
   "metadata": {},
   "source": [
    "**Black Scholes Option Class**"
   ]
  },
  {
   "cell_type": "code",
   "execution_count": 9,
   "metadata": {},
   "outputs": [],
   "source": [
    "class EuropeanOption:\n",
    "    def __init__(self, S, K, T, r, sigma, option_type='call'):\n",
    "        self.S = S          # Spot price\n",
    "        self.K = K          # Strike price\n",
    "        self.T = T          # Time to maturity (in years)\n",
    "        self.r = r          # Risk-free rate\n",
    "        self.sigma = sigma  # Volatility\n",
    "        self.option_type = option_type.lower()\n",
    "\n",
    "        self._d1 = (np.log(self.S / self.K) + (self.r + 0.5 * self.sigma ** 2) * self.T) / (self.sigma * np.sqrt(self.T))\n",
    "        self._d2 = self._d1 - self.sigma * np.sqrt(self.T)\n",
    "\n",
    "        logging.info(f'Initialized {self.option_type} option with S={self.S}, K={self.K}, T={self.T}, r={self.r}, sigma={self.sigma}')\n",
    "\n",
    "    def price(self):\n",
    "        if self.option_type == 'call':\n",
    "            return self.S * norm.cdf(self._d1) - self.K * np.exp(-self.r * self.T) * norm.cdf(self._d2)\n",
    "        elif self.option_type == 'put':\n",
    "            return self.K * np.exp(-self.r * self.T) * norm.cdf(-self._d2) - self.S * norm.cdf(-self._d1)\n",
    "        else:\n",
    "            raise ValueError(\"option_type must be 'call' or 'put'\")\n",
    "\n",
    "    def greeks(self):\n",
    "        delta = norm.cdf(self._d1) if self.option_type == 'call' else norm.cdf(self._d1) - 1\n",
    "        gamma = norm.pdf(self._d1) / (self.S * self.sigma * np.sqrt(self.T))\n",
    "        vega = self.S * norm.pdf(self._d1) * np.sqrt(self.T)\n",
    "        theta = self._theta()\n",
    "        rho = self._rho()\n",
    "\n",
    "        return {'Delta': delta, 'Gamma': gamma, 'Vega': vega / 100, 'Theta': theta / 365, 'Rho': rho / 100}\n",
    "\n",
    "    def _theta(self):\n",
    "        term1 = - (self.S * norm.pdf(self._d1) * self.sigma) / (2 * np.sqrt(self.T))\n",
    "        if self.option_type == 'call':\n",
    "            term2 = self.r * self.K * np.exp(-self.r * self.T) * norm.cdf(self._d2)\n",
    "            return term1 - term2\n",
    "        else:\n",
    "            term2 = self.r * self.K * np.exp(-self.r * self.T) * norm.cdf(-self._d2)\n",
    "            return term1 + term2\n",
    "\n",
    "    def _rho(self):\n",
    "        if self.option_type == 'call':\n",
    "            return self.K * self.T * np.exp(-self.r * self.T) * norm.cdf(self._d2)\n",
    "        else:\n",
    "            return -self.K * self.T * np.exp(-self.r * self.T) * norm.cdf(-self._d2)\n"
   ]
  },
  {
   "attachments": {},
   "cell_type": "markdown",
   "metadata": {},
   "source": [
    "**Visualizing the Option Price vs Spot Price**"
   ]
  },
  {
   "cell_type": "code",
   "execution_count": 12,
   "metadata": {},
   "outputs": [],
   "source": [
    "def plot_option_vs_spot(K, T, r, sigma, option_type = 'call'):\n",
    "    S_range = np.linspace(0.5 * K, 1.5 * K, 100)\n",
    "    prices = []\n",
    "    \n",
    "    for S in S_range:\n",
    "        opt = EuropeanOption(S, K, T, r, sigma, option_type)\n",
    "        prices.append(opt.price())\n",
    "    \n",
    "    plt.figure(figsize=(8, 5))\n",
    "    plt.plot(S_range, prices, label=f'{option_type.capitalize()} Price')\n",
    "    plt.axvline(K, color='gray', linestyle='--', label='Strike')\n",
    "    plt.title(f'{option_type.capitalize()} Option Price vs Spot Price')\n",
    "    plt.xlabel('Spot Price')\n",
    "    plt.ylabel('Option Price')\n",
    "    plt.legend()\n",
    "    plt.grid(True)\n",
    "    plt.show()"
   ]
  },
  {
   "cell_type": "code",
   "execution_count": 13,
   "metadata": {},
   "outputs": [
    {
     "name": "stderr",
     "output_type": "stream",
     "text": [
      "2025-07-27 00:23:16,049 - INFO - Initialized call option with S=50.0, K=100, T=1, r=0.05, sigma=0.2\n",
      "2025-07-27 00:23:16,060 - INFO - Initialized call option with S=51.01010101010101, K=100, T=1, r=0.05, sigma=0.2\n",
      "2025-07-27 00:23:16,061 - INFO - Initialized call option with S=52.02020202020202, K=100, T=1, r=0.05, sigma=0.2\n",
      "2025-07-27 00:23:16,062 - INFO - Initialized call option with S=53.03030303030303, K=100, T=1, r=0.05, sigma=0.2\n",
      "2025-07-27 00:23:16,062 - INFO - Initialized call option with S=54.04040404040404, K=100, T=1, r=0.05, sigma=0.2\n"
     ]
    },
    {
     "name": "stderr",
     "output_type": "stream",
     "text": [
      "2025-07-27 00:23:16,063 - INFO - Initialized call option with S=55.05050505050505, K=100, T=1, r=0.05, sigma=0.2\n",
      "2025-07-27 00:23:16,064 - INFO - Initialized call option with S=56.06060606060606, K=100, T=1, r=0.05, sigma=0.2\n",
      "2025-07-27 00:23:16,066 - INFO - Initialized call option with S=57.07070707070707, K=100, T=1, r=0.05, sigma=0.2\n",
      "2025-07-27 00:23:16,067 - INFO - Initialized call option with S=58.08080808080808, K=100, T=1, r=0.05, sigma=0.2\n",
      "2025-07-27 00:23:16,068 - INFO - Initialized call option with S=59.09090909090909, K=100, T=1, r=0.05, sigma=0.2\n",
      "2025-07-27 00:23:16,069 - INFO - Initialized call option with S=60.101010101010104, K=100, T=1, r=0.05, sigma=0.2\n",
      "2025-07-27 00:23:16,070 - INFO - Initialized call option with S=61.111111111111114, K=100, T=1, r=0.05, sigma=0.2\n",
      "2025-07-27 00:23:16,071 - INFO - Initialized call option with S=62.121212121212125, K=100, T=1, r=0.05, sigma=0.2\n",
      "2025-07-27 00:23:16,072 - INFO - Initialized call option with S=63.131313131313135, K=100, T=1, r=0.05, sigma=0.2\n",
      "2025-07-27 00:23:16,072 - INFO - Initialized call option with S=64.14141414141415, K=100, T=1, r=0.05, sigma=0.2\n",
      "2025-07-27 00:23:16,073 - INFO - Initialized call option with S=65.15151515151516, K=100, T=1, r=0.05, sigma=0.2\n",
      "2025-07-27 00:23:16,074 - INFO - Initialized call option with S=66.16161616161617, K=100, T=1, r=0.05, sigma=0.2\n",
      "2025-07-27 00:23:16,075 - INFO - Initialized call option with S=67.17171717171718, K=100, T=1, r=0.05, sigma=0.2\n",
      "2025-07-27 00:23:16,075 - INFO - Initialized call option with S=68.18181818181819, K=100, T=1, r=0.05, sigma=0.2\n",
      "2025-07-27 00:23:16,076 - INFO - Initialized call option with S=69.1919191919192, K=100, T=1, r=0.05, sigma=0.2\n",
      "2025-07-27 00:23:16,076 - INFO - Initialized call option with S=70.20202020202021, K=100, T=1, r=0.05, sigma=0.2\n",
      "2025-07-27 00:23:16,077 - INFO - Initialized call option with S=71.21212121212122, K=100, T=1, r=0.05, sigma=0.2\n",
      "2025-07-27 00:23:16,078 - INFO - Initialized call option with S=72.22222222222223, K=100, T=1, r=0.05, sigma=0.2\n",
      "2025-07-27 00:23:16,079 - INFO - Initialized call option with S=73.23232323232324, K=100, T=1, r=0.05, sigma=0.2\n",
      "2025-07-27 00:23:16,080 - INFO - Initialized call option with S=74.24242424242425, K=100, T=1, r=0.05, sigma=0.2\n",
      "2025-07-27 00:23:16,081 - INFO - Initialized call option with S=75.25252525252526, K=100, T=1, r=0.05, sigma=0.2\n",
      "2025-07-27 00:23:16,082 - INFO - Initialized call option with S=76.26262626262627, K=100, T=1, r=0.05, sigma=0.2\n",
      "2025-07-27 00:23:16,083 - INFO - Initialized call option with S=77.27272727272728, K=100, T=1, r=0.05, sigma=0.2\n",
      "2025-07-27 00:23:16,084 - INFO - Initialized call option with S=78.28282828282829, K=100, T=1, r=0.05, sigma=0.2\n",
      "2025-07-27 00:23:16,085 - INFO - Initialized call option with S=79.2929292929293, K=100, T=1, r=0.05, sigma=0.2\n",
      "2025-07-27 00:23:16,089 - INFO - Initialized call option with S=80.30303030303031, K=100, T=1, r=0.05, sigma=0.2\n",
      "2025-07-27 00:23:16,098 - INFO - Initialized call option with S=81.31313131313132, K=100, T=1, r=0.05, sigma=0.2\n",
      "2025-07-27 00:23:16,100 - INFO - Initialized call option with S=82.32323232323233, K=100, T=1, r=0.05, sigma=0.2\n",
      "2025-07-27 00:23:16,101 - INFO - Initialized call option with S=83.33333333333334, K=100, T=1, r=0.05, sigma=0.2\n",
      "2025-07-27 00:23:16,102 - INFO - Initialized call option with S=84.34343434343435, K=100, T=1, r=0.05, sigma=0.2\n",
      "2025-07-27 00:23:16,103 - INFO - Initialized call option with S=85.35353535353536, K=100, T=1, r=0.05, sigma=0.2\n",
      "2025-07-27 00:23:16,103 - INFO - Initialized call option with S=86.36363636363637, K=100, T=1, r=0.05, sigma=0.2\n",
      "2025-07-27 00:23:16,104 - INFO - Initialized call option with S=87.37373737373738, K=100, T=1, r=0.05, sigma=0.2\n",
      "2025-07-27 00:23:16,104 - INFO - Initialized call option with S=88.3838383838384, K=100, T=1, r=0.05, sigma=0.2\n",
      "2025-07-27 00:23:16,105 - INFO - Initialized call option with S=89.3939393939394, K=100, T=1, r=0.05, sigma=0.2\n",
      "2025-07-27 00:23:16,105 - INFO - Initialized call option with S=90.40404040404042, K=100, T=1, r=0.05, sigma=0.2\n",
      "2025-07-27 00:23:16,106 - INFO - Initialized call option with S=91.41414141414143, K=100, T=1, r=0.05, sigma=0.2\n",
      "2025-07-27 00:23:16,107 - INFO - Initialized call option with S=92.42424242424244, K=100, T=1, r=0.05, sigma=0.2\n",
      "2025-07-27 00:23:16,107 - INFO - Initialized call option with S=93.43434343434345, K=100, T=1, r=0.05, sigma=0.2\n",
      "2025-07-27 00:23:16,108 - INFO - Initialized call option with S=94.44444444444446, K=100, T=1, r=0.05, sigma=0.2\n",
      "2025-07-27 00:23:16,109 - INFO - Initialized call option with S=95.45454545454547, K=100, T=1, r=0.05, sigma=0.2\n",
      "2025-07-27 00:23:16,110 - INFO - Initialized call option with S=96.46464646464648, K=100, T=1, r=0.05, sigma=0.2\n",
      "2025-07-27 00:23:16,110 - INFO - Initialized call option with S=97.47474747474749, K=100, T=1, r=0.05, sigma=0.2\n",
      "2025-07-27 00:23:16,112 - INFO - Initialized call option with S=98.48484848484848, K=100, T=1, r=0.05, sigma=0.2\n",
      "2025-07-27 00:23:16,117 - INFO - Initialized call option with S=99.4949494949495, K=100, T=1, r=0.05, sigma=0.2\n",
      "2025-07-27 00:23:16,119 - INFO - Initialized call option with S=100.5050505050505, K=100, T=1, r=0.05, sigma=0.2\n",
      "2025-07-27 00:23:16,121 - INFO - Initialized call option with S=101.51515151515152, K=100, T=1, r=0.05, sigma=0.2\n",
      "2025-07-27 00:23:16,122 - INFO - Initialized call option with S=102.52525252525253, K=100, T=1, r=0.05, sigma=0.2\n",
      "2025-07-27 00:23:16,123 - INFO - Initialized call option with S=103.53535353535354, K=100, T=1, r=0.05, sigma=0.2\n",
      "2025-07-27 00:23:16,125 - INFO - Initialized call option with S=104.54545454545455, K=100, T=1, r=0.05, sigma=0.2\n",
      "2025-07-27 00:23:16,126 - INFO - Initialized call option with S=105.55555555555556, K=100, T=1, r=0.05, sigma=0.2\n",
      "2025-07-27 00:23:16,127 - INFO - Initialized call option with S=106.56565656565657, K=100, T=1, r=0.05, sigma=0.2\n",
      "2025-07-27 00:23:16,128 - INFO - Initialized call option with S=107.57575757575758, K=100, T=1, r=0.05, sigma=0.2\n",
      "2025-07-27 00:23:16,129 - INFO - Initialized call option with S=108.58585858585859, K=100, T=1, r=0.05, sigma=0.2\n",
      "2025-07-27 00:23:16,129 - INFO - Initialized call option with S=109.5959595959596, K=100, T=1, r=0.05, sigma=0.2\n",
      "2025-07-27 00:23:16,130 - INFO - Initialized call option with S=110.60606060606061, K=100, T=1, r=0.05, sigma=0.2\n",
      "2025-07-27 00:23:16,130 - INFO - Initialized call option with S=111.61616161616162, K=100, T=1, r=0.05, sigma=0.2\n",
      "2025-07-27 00:23:16,131 - INFO - Initialized call option with S=112.62626262626263, K=100, T=1, r=0.05, sigma=0.2\n",
      "2025-07-27 00:23:16,132 - INFO - Initialized call option with S=113.63636363636364, K=100, T=1, r=0.05, sigma=0.2\n",
      "2025-07-27 00:23:16,133 - INFO - Initialized call option with S=114.64646464646465, K=100, T=1, r=0.05, sigma=0.2\n",
      "2025-07-27 00:23:16,134 - INFO - Initialized call option with S=115.65656565656566, K=100, T=1, r=0.05, sigma=0.2\n",
      "2025-07-27 00:23:16,136 - INFO - Initialized call option with S=116.66666666666667, K=100, T=1, r=0.05, sigma=0.2\n",
      "2025-07-27 00:23:16,137 - INFO - Initialized call option with S=117.67676767676768, K=100, T=1, r=0.05, sigma=0.2\n",
      "2025-07-27 00:23:16,138 - INFO - Initialized call option with S=118.68686868686869, K=100, T=1, r=0.05, sigma=0.2\n",
      "2025-07-27 00:23:16,139 - INFO - Initialized call option with S=119.6969696969697, K=100, T=1, r=0.05, sigma=0.2\n",
      "2025-07-27 00:23:16,139 - INFO - Initialized call option with S=120.70707070707071, K=100, T=1, r=0.05, sigma=0.2\n",
      "2025-07-27 00:23:16,140 - INFO - Initialized call option with S=121.71717171717172, K=100, T=1, r=0.05, sigma=0.2\n",
      "2025-07-27 00:23:16,140 - INFO - Initialized call option with S=122.72727272727273, K=100, T=1, r=0.05, sigma=0.2\n",
      "2025-07-27 00:23:16,141 - INFO - Initialized call option with S=123.73737373737374, K=100, T=1, r=0.05, sigma=0.2\n",
      "2025-07-27 00:23:16,141 - INFO - Initialized call option with S=124.74747474747475, K=100, T=1, r=0.05, sigma=0.2\n",
      "2025-07-27 00:23:16,142 - INFO - Initialized call option with S=125.75757575757576, K=100, T=1, r=0.05, sigma=0.2\n",
      "2025-07-27 00:23:16,143 - INFO - Initialized call option with S=126.76767676767678, K=100, T=1, r=0.05, sigma=0.2\n",
      "2025-07-27 00:23:16,144 - INFO - Initialized call option with S=127.77777777777779, K=100, T=1, r=0.05, sigma=0.2\n",
      "2025-07-27 00:23:16,144 - INFO - Initialized call option with S=128.7878787878788, K=100, T=1, r=0.05, sigma=0.2\n",
      "2025-07-27 00:23:16,145 - INFO - Initialized call option with S=129.7979797979798, K=100, T=1, r=0.05, sigma=0.2\n",
      "2025-07-27 00:23:16,146 - INFO - Initialized call option with S=130.80808080808083, K=100, T=1, r=0.05, sigma=0.2\n",
      "2025-07-27 00:23:16,147 - INFO - Initialized call option with S=131.8181818181818, K=100, T=1, r=0.05, sigma=0.2\n",
      "2025-07-27 00:23:16,147 - INFO - Initialized call option with S=132.82828282828285, K=100, T=1, r=0.05, sigma=0.2\n",
      "2025-07-27 00:23:16,148 - INFO - Initialized call option with S=133.83838383838383, K=100, T=1, r=0.05, sigma=0.2\n",
      "2025-07-27 00:23:16,149 - INFO - Initialized call option with S=134.84848484848487, K=100, T=1, r=0.05, sigma=0.2\n",
      "2025-07-27 00:23:16,150 - INFO - Initialized call option with S=135.85858585858585, K=100, T=1, r=0.05, sigma=0.2\n",
      "2025-07-27 00:23:16,150 - INFO - Initialized call option with S=136.8686868686869, K=100, T=1, r=0.05, sigma=0.2\n",
      "2025-07-27 00:23:16,151 - INFO - Initialized call option with S=137.87878787878788, K=100, T=1, r=0.05, sigma=0.2\n",
      "2025-07-27 00:23:16,152 - INFO - Initialized call option with S=138.8888888888889, K=100, T=1, r=0.05, sigma=0.2\n",
      "2025-07-27 00:23:16,153 - INFO - Initialized call option with S=139.8989898989899, K=100, T=1, r=0.05, sigma=0.2\n",
      "2025-07-27 00:23:16,153 - INFO - Initialized call option with S=140.90909090909093, K=100, T=1, r=0.05, sigma=0.2\n",
      "2025-07-27 00:23:16,154 - INFO - Initialized call option with S=141.91919191919192, K=100, T=1, r=0.05, sigma=0.2\n",
      "2025-07-27 00:23:16,154 - INFO - Initialized call option with S=142.92929292929296, K=100, T=1, r=0.05, sigma=0.2\n",
      "2025-07-27 00:23:16,155 - INFO - Initialized call option with S=143.93939393939394, K=100, T=1, r=0.05, sigma=0.2\n",
      "2025-07-27 00:23:16,156 - INFO - Initialized call option with S=144.94949494949498, K=100, T=1, r=0.05, sigma=0.2\n",
      "2025-07-27 00:23:16,157 - INFO - Initialized call option with S=145.95959595959596, K=100, T=1, r=0.05, sigma=0.2\n",
      "2025-07-27 00:23:16,157 - INFO - Initialized call option with S=146.96969696969697, K=100, T=1, r=0.05, sigma=0.2\n",
      "2025-07-27 00:23:16,158 - INFO - Initialized call option with S=147.97979797979798, K=100, T=1, r=0.05, sigma=0.2\n",
      "2025-07-27 00:23:16,159 - INFO - Initialized call option with S=148.989898989899, K=100, T=1, r=0.05, sigma=0.2\n",
      "2025-07-27 00:23:16,159 - INFO - Initialized call option with S=150.0, K=100, T=1, r=0.05, sigma=0.2\n"
     ]
    },
    {
     "data": {
      "image/png": "[encoded data removed]",
      "text/plain": [
       "<Figure size 800x500 with 1 Axes>"
      ]
     },
     "metadata": {},
     "output_type": "display_data"
    }
   ],
   "source": [
    "plot_option_vs_spot(K=100, T=1, r=0.05, sigma=0.2, option_type='call')"
   ]
  },
  {
   "attachments": {},
   "cell_type": "markdown",
   "metadata": {},
   "source": [
    "**Using real market data from Yahoo Finance**"
   ]
  },
  {
   "cell_type": "code",
   "execution_count": 14,
   "metadata": {},
   "outputs": [
    {
     "name": "stderr",
     "output_type": "stream",
     "text": [
      "2025-07-27 00:24:07,601 - INFO - Initialized call option with S=213.8800048828125, K=213.8800048828125, T=0.25, r=0.05, sigma=0.25\n"
     ]
    },
    {
     "name": "stdout",
     "output_type": "stream",
     "text": [
      "Latest AAPL price: 213.88\n",
      "\n",
      "Call Option Price: $11.97\n",
      "Greeks:\n",
      "Delta: 0.5645\n",
      "Gamma: 0.0147\n",
      "Vega: 0.4210\n",
      "Theta: -0.0726\n",
      "Rho: 0.2719\n"
     ]
    }
   ],
   "source": [
    "ticker = 'AAPL'\n",
    "stock = yf.Ticker(ticker)\n",
    "spot_price = stock.history(period='5d')['Close'][-1]\n",
    "print(f\"Latest {ticker} price: {spot_price:.2f}\")\n",
    "\n",
    "# Create Option\n",
    "option = EuropeanOption(S=spot_price, K=spot_price, T=0.25, r=0.05, sigma=0.25, option_type='call')\n",
    "price = option.price()\n",
    "greeks = option.greeks()\n",
    "\n",
    "print(f\"\\nCall Option Price: ${price:.2f}\")\n",
    "print(\"Greeks:\")\n",
    "for greek, val in greeks.items():\n",
    "    print(f\"{greek}: {val:.4f}\")\n"
   ]
  },
  {
   "attachments": {},
   "cell_type": "markdown",
   "metadata": {},
   "source": [
    "**Interpretation of Results (Black-Scholes European Call)**\n",
    "\n",
    "Priced an **European call option** on AAPL using the Black-Scholes model and real market data.\n",
    "\n",
    "**Inputs:**\n",
    "- **Spot Price (S):** \\$213.88\n",
    "- **Strike Price (K):** \\$213.88 (At-the-Money)\n",
    "- **Time to Maturity (T):** 0.25 years (3 months)\n",
    "- **Risk-Free Rate (r):** 5% annually\n",
    "- **Volatility (σ):** 25% annually\n",
    "\n",
    "\n",
    "\n",
    "Call Option Price: **\\$11.97**\n",
    "\n",
    "This is the fair theoretical price for the right (but not obligation) to buy AAPL at \\$213.88 in 3 months. The option is **at-the-money**, which makes the premium primarily influenced by volatility and time value.\n",
    "\n",
    "\n",
    "**Greeks Breakdown**\n",
    "\n",
    "| Greek | Value | Interpretation |\n",
    "|-------|-------|----------------|\n",
    "| **Delta** | 0.5645 | For every $1 increase in AAPL, the option gains $0.56. Indicates ~56% exposure to the underlying stock. Useful for **Delta hedging**. |\n",
    "| **Gamma** | 0.0147 | Gamma shows how much **Delta changes** for a \\$1 move in AAPL. Higher near-the-money and close to expiry. Indicates **convexity**. |\n",
    "| **Vega** | 0.4210 | For every 1% increase in implied volatility, the option gains ~\\$0.42. Important for **volatility trading** and exposure. |\n",
    "| **Theta** | -0.0726 | Option **loses ~7.3 cents per day** due to time decay. Crucial for understanding **decay risk** in long positions. |\n",
    "| **Rho** | 0.2719 | A 1% rise in interest rates increases option value by ~\\$0.27. More relevant for **long-dated options**. |\n",
    "\n",
    "\n",
    "\n",
    "**Hedging Insight**\n",
    "\n",
    "- Use **Delta** for directional hedging (e.g., Delta-neutral portfolios).\n",
    "- Monitor **Gamma** to understand sensitivity of Delta — key for large movements.\n",
    "- Trade **Vega** if you're positioning on volatility (IV spikes benefit buyers).\n",
    "- Be aware of **Theta decay** — time works against holders, not writers.\n",
    "- **Rho** matters in rate-sensitive instruments or macro trading strategies.\n",
    "\n",
    "\n",
    "\n",
    "**Conclusion:**  \n",
    "The Black-Scholes model offers a robust framework for pricing and risk management of European options. Understanding the **Greeks** equips traders and analysts to make more informed hedging and speculative decisions based on how options respond to different market conditions.\n"
   ]
  },
  {
   "cell_type": "code",
   "execution_count": null,
   "metadata": {},
   "outputs": [],
   "source": []
  }
 ],
 "metadata": {
  "kernelspec": {
   "display_name": "Python 3",
   "language": "python",
   "name": "python3"
  },
  "language_info": {
   "codemirror_mode": {
    "name": "ipython",
    "version": 3
   },
   "file_extension": ".py",
   "mimetype": "text/x-python",
   "name": "python",
   "nbconvert_exporter": "python",
   "pygments_lexer": "ipython3",
   "version": "3.9.12"
  },
  "orig_nbformat": 4
 },
 "nbformat": 4,
 "nbformat_minor": 2
}
