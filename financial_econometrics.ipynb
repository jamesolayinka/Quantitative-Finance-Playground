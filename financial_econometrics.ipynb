{
 "cells": [
  {
   "attachments": {},
   "cell_type": "markdown",
   "metadata": {},
   "source": [
    "**Financial Econometrics Module Exercises**"
   ]
  },
  {
   "cell_type": "code",
   "execution_count": 56,
   "metadata": {},
   "outputs": [],
   "source": [
    "import time\n",
    "import numpy as np\n",
    "import pandas as pd\n",
    "import yfinance as yf\n",
    "import statsmodels.api as sm\n",
    "import itertools\n",
    "import matplotlib.pyplot as plt\n",
    "from statsmodels.tsa.stattools import adfuller, kpss\n"
   ]
  },
  {
   "attachments": {},
   "cell_type": "markdown",
   "metadata": {},
   "source": [
    "**Problem 1**\n",
    "\n",
    "Simulation of omitted variable bias and compare estimates with and without the omitted predictor."
   ]
  },
  {
   "cell_type": "code",
   "execution_count": 39,
   "metadata": {},
   "outputs": [
    {
     "data": {
      "text/html": [
       "<div>\n",
       "<style scoped>\n",
       "    .dataframe tbody tr th:only-of-type {\n",
       "        vertical-align: middle;\n",
       "    }\n",
       "\n",
       "    .dataframe tbody tr th {\n",
       "        vertical-align: top;\n",
       "    }\n",
       "\n",
       "    .dataframe thead th {\n",
       "        text-align: right;\n",
       "    }\n",
       "</style>\n",
       "<table border=\"1\" class=\"dataframe\">\n",
       "  <thead>\n",
       "    <tr style=\"text-align: right;\">\n",
       "      <th></th>\n",
       "      <th>n</th>\n",
       "      <th>true_b</th>\n",
       "      <th>true_c</th>\n",
       "      <th>mean_b_full</th>\n",
       "      <th>sd_b_full</th>\n",
       "      <th>mean_c_full</th>\n",
       "      <th>sd_c_full</th>\n",
       "      <th>mean_b_reduced</th>\n",
       "      <th>sd_b_reduced</th>\n",
       "      <th>mean_bias_reduced</th>\n",
       "      <th>theoretical_bias</th>\n",
       "    </tr>\n",
       "  </thead>\n",
       "  <tbody>\n",
       "    <tr>\n",
       "      <th>0</th>\n",
       "      <td>100</td>\n",
       "      <td>2.0</td>\n",
       "      <td>3.0</td>\n",
       "      <td>2.000558</td>\n",
       "      <td>0.124435</td>\n",
       "      <td>2.999465</td>\n",
       "      <td>0.123822</td>\n",
       "      <td>3.806932</td>\n",
       "      <td>0.268234</td>\n",
       "      <td>1.806932</td>\n",
       "      <td>1.8</td>\n",
       "    </tr>\n",
       "    <tr>\n",
       "      <th>1</th>\n",
       "      <td>1000</td>\n",
       "      <td>2.0</td>\n",
       "      <td>3.0</td>\n",
       "      <td>1.999922</td>\n",
       "      <td>0.040389</td>\n",
       "      <td>2.999588</td>\n",
       "      <td>0.040053</td>\n",
       "      <td>3.799320</td>\n",
       "      <td>0.081780</td>\n",
       "      <td>1.799320</td>\n",
       "      <td>1.8</td>\n",
       "    </tr>\n",
       "    <tr>\n",
       "      <th>2</th>\n",
       "      <td>10000</td>\n",
       "      <td>2.0</td>\n",
       "      <td>3.0</td>\n",
       "      <td>1.999752</td>\n",
       "      <td>0.013286</td>\n",
       "      <td>2.999612</td>\n",
       "      <td>0.012629</td>\n",
       "      <td>3.799776</td>\n",
       "      <td>0.025355</td>\n",
       "      <td>1.799776</td>\n",
       "      <td>1.8</td>\n",
       "    </tr>\n",
       "  </tbody>\n",
       "</table>\n",
       "</div>"
      ],
      "text/plain": [
       "       n  true_b  true_c  mean_b_full  sd_b_full  mean_c_full  sd_c_full  \\\n",
       "0    100     2.0     3.0     2.000558   0.124435     2.999465   0.123822   \n",
       "1   1000     2.0     3.0     1.999922   0.040389     2.999588   0.040053   \n",
       "2  10000     2.0     3.0     1.999752   0.013286     2.999612   0.012629   \n",
       "\n",
       "   mean_b_reduced  sd_b_reduced  mean_bias_reduced  theoretical_bias  \n",
       "0        3.806932      0.268234           1.806932               1.8  \n",
       "1        3.799320      0.081780           1.799320               1.8  \n",
       "2        3.799776      0.025355           1.799776               1.8  "
      ]
     },
     "execution_count": 39,
     "metadata": {},
     "output_type": "execute_result"
    }
   ],
   "source": [
    "def ols(y, X):\n",
    "    \"\"\"OLS via least squares. X should include intercept column if desired.\"\"\"\n",
    "    beta = np.linalg.lstsq(X, y, rcond=None)[0]\n",
    "    return beta\n",
    "\n",
    "np.random.seed(0)\n",
    "a = 1.0   # intercept\n",
    "b = 2.0   # coefficient on X (true)\n",
    "c = 3.0   # coefficient on Z (true, omitted in reduced model)\n",
    "sigma = 1.0\n",
    "rho = 0.6  # correlation between X and Z (Cov(X,Z) = rho if Var(X)=1)\n",
    "\n",
    "ns = [100, 1000, 10000]  # sample sizes to test\n",
    "reps = 400               # Monte Carlo reps per sample size\n",
    "\n",
    "results = []\n",
    "\n",
    "for n in ns:\n",
    "    b_full = np.zeros(reps)\n",
    "    c_full = np.zeros(reps)\n",
    "    b_red = np.zeros(reps)\n",
    "    for r in range(reps):\n",
    "        \n",
    "        # generate correlated X and Z\n",
    "        X = np.random.normal(size=n)\n",
    "        U = np.random.normal(size=n)\n",
    "        Z = rho * X + np.sqrt(1 - rho**2) * U  # Var(Z) ≈ 1, Cov(X,Z) ≈ rho\n",
    "        \n",
    "        # noise independent of X, Z\n",
    "        e = np.random.normal(scale=sigma, size=n)\n",
    "        y = a + b * X + c * Z + e\n",
    "        \n",
    "        # full model (intercept, X, Z)\n",
    "        X_full = np.column_stack((np.ones(n), X, Z))\n",
    "        beta_full = ols(y, X_full)\n",
    "        b_full[r] = beta_full[1]\n",
    "        c_full[r] = beta_full[2]\n",
    "        \n",
    "        # reduced model (intercept, X) - Z omitted\n",
    "        X_red = np.column_stack((np.ones(n), X))\n",
    "        beta_red = ols(y, X_red)\n",
    "        b_red[r] = beta_red[1]\n",
    "    \n",
    "    results.append({\n",
    "        'n': n,\n",
    "        'true_b': b,\n",
    "        'true_c': c,\n",
    "        'mean_b_full': b_full.mean(),\n",
    "        'sd_b_full': b_full.std(ddof=1),\n",
    "        'mean_c_full': c_full.mean(),\n",
    "        'sd_c_full': c_full.std(ddof=1),\n",
    "        'mean_b_reduced': b_red.mean(),\n",
    "        'sd_b_reduced': b_red.std(ddof=1),\n",
    "        'mean_bias_reduced': b_red.mean() - b,\n",
    "        'theoretical_bias': c * rho\n",
    "    })\n",
    "\n",
    "df = pd.DataFrame(results)\n",
    "df"
   ]
  },
  {
   "attachments": {},
   "cell_type": "markdown",
   "metadata": {},
   "source": [
    "**Inference**\n",
    "\n",
    "- The full-model estimates for b and c are approximately unbiased and converge to the true values (mean_b_full ≈ 2.0, mean_c_full ≈ 3.0) and their standard deviations shrink as n increases using simulation n ∈ {100, 1000, 10000}.\n",
    "- The reduced-model estimate for b is shifted upward by about the theoretical bias (mean_b_reduced ≈ 3.80 in the simulations), matching the predicted b + Cρ = 3.8. where, Cρ = theorectical bias.\n",
    "- Increasing sample size does not remove the bias. What changes with larger n is variance: the estimates become more tightly concentrated around their (biased) limits. So, the reduced estimator converges to a wrong value (consistent for the wrong parameter) and the omitted-variable bias is asymptotic and does not vanish by increasing n.\n"
   ]
  },
  {
   "attachments": {},
   "cell_type": "markdown",
   "metadata": {},
   "source": [
    "**Problem 2**\n",
    "\n",
    "Using the Even Group number: FE-GWP1_model_selection_2.csv"
   ]
  },
  {
   "cell_type": "code",
   "execution_count": 48,
   "metadata": {},
   "outputs": [
    {
     "data": {
      "text/html": [
       "<div>\n",
       "<style scoped>\n",
       "    .dataframe tbody tr th:only-of-type {\n",
       "        vertical-align: middle;\n",
       "    }\n",
       "\n",
       "    .dataframe tbody tr th {\n",
       "        vertical-align: top;\n",
       "    }\n",
       "\n",
       "    .dataframe thead th {\n",
       "        text-align: right;\n",
       "    }\n",
       "</style>\n",
       "<table border=\"1\" class=\"dataframe\">\n",
       "  <thead>\n",
       "    <tr style=\"text-align: right;\">\n",
       "      <th></th>\n",
       "      <th>Y</th>\n",
       "      <th>Z1</th>\n",
       "      <th>Z2</th>\n",
       "      <th>Z3</th>\n",
       "      <th>Z4</th>\n",
       "      <th>Z5</th>\n",
       "    </tr>\n",
       "  </thead>\n",
       "  <tbody>\n",
       "    <tr>\n",
       "      <th>0</th>\n",
       "      <td>2.172296</td>\n",
       "      <td>0.121634</td>\n",
       "      <td>-0.051562</td>\n",
       "      <td>0.570616</td>\n",
       "      <td>1.279931</td>\n",
       "      <td>0.075233</td>\n",
       "    </tr>\n",
       "    <tr>\n",
       "      <th>1</th>\n",
       "      <td>0.502380</td>\n",
       "      <td>0.025446</td>\n",
       "      <td>-0.093062</td>\n",
       "      <td>0.304875</td>\n",
       "      <td>-0.582292</td>\n",
       "      <td>0.377388</td>\n",
       "    </tr>\n",
       "    <tr>\n",
       "      <th>2</th>\n",
       "      <td>0.711362</td>\n",
       "      <td>-0.136716</td>\n",
       "      <td>-0.082229</td>\n",
       "      <td>-0.191680</td>\n",
       "      <td>-0.647970</td>\n",
       "      <td>1.230986</td>\n",
       "    </tr>\n",
       "    <tr>\n",
       "      <th>3</th>\n",
       "      <td>-0.557168</td>\n",
       "      <td>-0.284459</td>\n",
       "      <td>-0.170922</td>\n",
       "      <td>-0.853670</td>\n",
       "      <td>-1.256146</td>\n",
       "      <td>-0.991686</td>\n",
       "    </tr>\n",
       "    <tr>\n",
       "      <th>4</th>\n",
       "      <td>1.500199</td>\n",
       "      <td>0.105205</td>\n",
       "      <td>-0.169141</td>\n",
       "      <td>0.826558</td>\n",
       "      <td>0.640945</td>\n",
       "      <td>1.099873</td>\n",
       "    </tr>\n",
       "  </tbody>\n",
       "</table>\n",
       "</div>"
      ],
      "text/plain": [
       "          Y        Z1        Z2        Z3        Z4        Z5\n",
       "0  2.172296  0.121634 -0.051562  0.570616  1.279931  0.075233\n",
       "1  0.502380  0.025446 -0.093062  0.304875 -0.582292  0.377388\n",
       "2  0.711362 -0.136716 -0.082229 -0.191680 -0.647970  1.230986\n",
       "3 -0.557168 -0.284459 -0.170922 -0.853670 -1.256146 -0.991686\n",
       "4  1.500199  0.105205 -0.169141  0.826558  0.640945  1.099873"
      ]
     },
     "execution_count": 48,
     "metadata": {},
     "output_type": "execute_result"
    }
   ],
   "source": [
    "colnames = [\"Y\", \"Z1\", \"Z2\", \"Z3\", \"Z4\", \"Z5\"]\n",
    "df = pd.read_csv(\"FE-GWP1_model_selection_2.csv\", names=colnames, header=0)\n",
    "df.head()"
   ]
  },
  {
   "cell_type": "code",
   "execution_count": 50,
   "metadata": {},
   "outputs": [],
   "source": [
    "# Dependent and independent variables\n",
    "Y = df['Y']\n",
    "X = df[['Z1', 'Z2', 'Z3', 'Z4', 'Z5']]"
   ]
  },
  {
   "cell_type": "code",
   "execution_count": 51,
   "metadata": {},
   "outputs": [],
   "source": [
    "# Function to fit OLS and return Adjusted R2, AIC, and BIC\n",
    "def fit_model(X, y):\n",
    "    X = sm.add_constant(X)  # add intercept\n",
    "    model = sm.OLS(y, X).fit()\n",
    "    return model"
   ]
  },
  {
   "cell_type": "code",
   "execution_count": 61,
   "metadata": {},
   "outputs": [],
   "source": [
    "# Exhaustive Search - trying all possible subsets of predictors\n",
    "results = []\n",
    "predictors = ['Z1','Z2','Z3','Z4','Z5']\n",
    "\n",
    "for k in range(1, len(predictors)+1):\n",
    "    for subset in itertools.combinations(predictors, k):\n",
    "        X_subset = df[list(subset)]\n",
    "        model = fit_model(X_subset, Y)\n",
    "        results.append({\n",
    "            'variables': subset,\n",
    "            'adj_r2': model.rsquared_adj,\n",
    "            'aic': model.aic,\n",
    "            'bic': model.bic\n",
    "        })\n",
    "\n",
    "results_df = pd.DataFrame(results)\n",
    "results_adj_r2 = results_df.sort_values(by=\"adj_r2\", ascending=False).head()"
   ]
  },
  {
   "cell_type": "code",
   "execution_count": 64,
   "metadata": {},
   "outputs": [],
   "source": [
    "results_adj_r2.to_csv(\"model_selection_results_r2.csv\", index=False)\n",
    "results_df.to_csv(\"model_selection_results.csv\", index=False)"
   ]
  },
  {
   "cell_type": "code",
   "execution_count": 58,
   "metadata": {},
   "outputs": [
    {
     "data": {
      "image/png": "[encoded data removed]",
      "text/plain": [
       "<Figure size 1800x500 with 3 Axes>"
      ]
     },
     "metadata": {},
     "output_type": "display_data"
    }
   ],
   "source": [
    "fig, axes = plt.subplots(1, 3, figsize=(18,5))\n",
    "\n",
    "# Adjusted R2\n",
    "axes[0].plot(results_df['num_vars'], results_df['adj_r2'], marker='o', color='blue')\n",
    "axes[0].set_title('Adjusted R²')\n",
    "axes[0].set_xlabel('Number of Variables')\n",
    "\n",
    "# AIC\n",
    "axes[1].plot(results_df['num_vars'], results_df['aic'], marker='s', color='green')\n",
    "axes[1].set_title('AIC')\n",
    "axes[1].set_xlabel('Number of Variables')\n",
    "\n",
    "# BIC\n",
    "axes[2].plot(results_df['num_vars'], results_df['bic'], marker='^', color='red')\n",
    "axes[2].set_title('BIC')\n",
    "axes[2].set_xlabel('Number of Variables')\n",
    "\n",
    "plt.suptitle(\"Model Selection Criteria\")\n",
    "plt.tight_layout()\n",
    "plt.show()"
   ]
  },
  {
   "attachments": {},
   "cell_type": "markdown",
   "metadata": {},
   "source": [
    "**Inferences**\n",
    "\n",
    "We estimated all possible subsets of predictors Z1, Z2, Z3, Z4, Z5 and compared models using Adjusted R Squared, AIC, and BIC.\n",
    "\n",
    "- **Adjusted R Squared**\n",
    "\tThe chart (left panel) shows Adjusted R squared increases as more variables are included.\n",
    "\tThe highest Adjusted R squared = 0.9936 is achieved by the full model (Z1–Z5).\n",
    "\tThis means the full model explains about 99% of the variation in Y, even after adjusting for the number of regressors.\n",
    "\n",
    "- **AIC (Akaike Information Criterion)**\n",
    "\tAIC decreases as more predictors are added, reaching the lowest value = -165.90 at the full model (Z1–Z5).\n",
    "\tSince smaller AIC indicates a better trade-off between fit and complexity, AIC favors the full model.\n",
    "\n",
    "- **BIC (Bayesian Information Criterion)**\n",
    "\tBIC also selects the full model (Z1–Z5), with the lowest BIC = -150.27.\n",
    "\tUnlike AIC, BIC penalizes complexity more strongly, but still finds the full model preferable, suggesting that all five predictors contribute valuable information.\n",
    "\n",
    "The three approaches (Adjusted R Squared, AIC, BIC) select the full model:\n",
    "\n",
    "Y ~Z1 + Z2 + Z3 + Z4 + Z5\n",
    "\n",
    "This means each regressor contributes useful explanatory power. Dropping any variable worsens model performance even after adjusting for complexity. Therefore, the optimal regression specification is the five-variable model.\n"
   ]
  },
  {
   "attachments": {},
   "cell_type": "markdown",
   "metadata": {},
   "source": [
    "**Problem 3**\n",
    "- Use real economic data for equities and illustrate if the time series you chose has a unit root.\n",
    "- The Python code illustrates how to implement the Augmented Dickey–Fuller (ADF) and KPSS tests on equity data. The example employs the SPY"
   ]
  },
  {
   "cell_type": "code",
   "execution_count": 23,
   "metadata": {},
   "outputs": [
    {
     "name": "stdout",
     "output_type": "stream",
     "text": [
      "date\n",
      "2015-01-02    205.43\n",
      "2015-01-05    201.72\n",
      "2015-01-06    199.82\n",
      "2015-01-07    202.31\n",
      "2015-01-08    205.90\n",
      "Name: 4. close, dtype: float64\n",
      "date\n",
      "2025-09-08    648.83\n",
      "2025-09-09    650.33\n",
      "2025-09-10    652.21\n",
      "2025-09-11    657.63\n",
      "2025-09-12    657.41\n",
      "Name: 4. close, dtype: float64\n"
     ]
    }
   ],
   "source": [
    "from alpha_vantage.timeseries import TimeSeries\n",
    "import pandas as pd\n",
    "\n",
    "api_key = \"CIGCA4Z6GK5BXTD2\"\n",
    "ts = TimeSeries(key=api_key, output_format=\"pandas\")\n",
    "\n",
    "px, _ = ts.get_daily(symbol=\"SPY\", outputsize=\"full\")\n",
    "\n",
    "# Fix index: convert to datetime and sort\n",
    "px.index = pd.to_datetime(px.index)\n",
    "px = px.sort_index()\n",
    "\n",
    "# Now you can slice safely\n",
    "px = px[\"4. close\"].loc[\"2015-01-01\":]\n",
    "\n",
    "print(px.head())\n",
    "print(px.tail())"
   ]
  },
  {
   "cell_type": "code",
   "execution_count": 25,
   "metadata": {},
   "outputs": [
    {
     "name": "stderr",
     "output_type": "stream",
     "text": [
      "/var/folders/gh/l_8ybplj4t7c9q_9dy0sphcc0000gp/T/ipykernel_31148/1994020445.py:9: InterpolationWarning: The test statistic is outside of the range of p-values available in the\n",
      "look-up table. The actual p-value is smaller than the p-value returned.\n",
      "\n",
      "  kpss_stat, kpss_p, *_ = kpss(series, regression='c', nlags=\"auto\")\n"
     ]
    },
    {
     "name": "stdout",
     "output_type": "stream",
     "text": [
      "\n",
      "Log Price:\n",
      "  ADF:  stat=-0.249, p= 0.932  (H0=unit root)\n",
      "  KPSS: stat= 8.132, p= 0.010 (H0=stationary)\n",
      "\n",
      "Log Return:\n",
      "  ADF:  stat=-16.632, p= 0.000  (H0=unit root)\n",
      "  KPSS: stat= 0.059, p= 0.100 (H0=stationary)\n"
     ]
    },
    {
     "name": "stderr",
     "output_type": "stream",
     "text": [
      "/var/folders/gh/l_8ybplj4t7c9q_9dy0sphcc0000gp/T/ipykernel_31148/1994020445.py:9: InterpolationWarning: The test statistic is outside of the range of p-values available in the\n",
      "look-up table. The actual p-value is greater than the p-value returned.\n",
      "\n",
      "  kpss_stat, kpss_p, *_ = kpss(series, regression='c', nlags=\"auto\")\n"
     ]
    }
   ],
   "source": [
    "# 2) Build log-levels and log-returns\n",
    "logp = np.log(px)\n",
    "ret = logp.diff().dropna()\n",
    "\n",
    "def adf_kpss(series, name):\n",
    "    # ADF (H0: unit root)\n",
    "    adf_stat, adf_p, *_ = adfuller(series, maxlag=None, regression='c', autolag='AIC')\n",
    "    # KPSS (H0: stationarity)\n",
    "    kpss_stat, kpss_p, *_ = kpss(series, regression='c', nlags=\"auto\")\n",
    "    print(f\"\\n{name}:\")\n",
    "    print(f\"  ADF:  stat={adf_stat: .3f}, p={adf_p: .3f}  (H0=unit root)\")\n",
    "    print(f\"  KPSS: stat={kpss_stat: .3f}, p={kpss_p: .3f} (H0=stationary)\")\n",
    "\n",
    "adf_kpss(logp.dropna(), \"Log Price\")\n",
    "adf_kpss(ret.dropna(), \"Log Return\")\n"
   ]
  },
  {
   "attachments": {},
   "cell_type": "markdown",
   "metadata": {},
   "source": [
    "The empirical results indicate that the log price series fails to reject the unit root hypothesis, while the log return series rejects the unit root and satisfies the stationarity assumption. This finding is consistent with the well-established property in financial econometrics that asset prices are integrated of order one, I(1), whereas returns are stationary, I(0)"
   ]
  },
  {
   "attachments": {},
   "cell_type": "markdown",
   "metadata": {},
   "source": [
    "**Problem 4**\n",
    "\n",
    "A simulation exercise clarifies the difference between the two cases. When ρ = 1, the process follows a random walk with variance that increases linearly over time. When ρ > 1, the process becomes explosive, with variance increasing geometrically. The latter is rarely consistent with observed macroeconomic or financial data, which explains the focus on detecting unit roots (ρ = 1) rather than explosive roots."
   ]
  },
  {
   "cell_type": "code",
   "execution_count": 26,
   "metadata": {},
   "outputs": [],
   "source": [
    "def ar1(rho=1.0, n=500, sigma=1.0, seed=0):\n",
    "    rng = np.random.default_rng(seed)\n",
    "    u = rng.normal(0, sigma, size=n)\n",
    "    y = np.zeros(n)\n",
    "    for t in range(1, n):\n",
    "        y[t] = rho*y[t-1] + u[t]\n",
    "    return y\n",
    "\n",
    "y_unit = ar1(rho=1.0)   # random walk: variance ~ linear in t\n",
    "y_expl = ar1(rho=1.5)   # explosive: variance grows ~ geometrically\n",
    "\n"
   ]
  },
  {
   "cell_type": "code",
   "execution_count": 27,
   "metadata": {},
   "outputs": [
    {
     "name": "stdout",
     "output_type": "stream",
     "text": [
      "unit_root    8.588120e+00\n",
      "explosive    1.077383e+86\n",
      "dtype: float64\n"
     ]
    }
   ],
   "source": [
    "# Compare empirical standard deviations over time windows\n",
    "df = pd.DataFrame({\"unit_root\": y_unit, \"explosive\": y_expl})\n",
    "print(df.std())\n"
   ]
  },
  {
   "attachments": {},
   "cell_type": "markdown",
   "metadata": {},
   "source": [
    "**Economic intuition.**\n",
    "- Unit root (ρ=1): series is highly persistent but plausible in macro/finance (e.g., asset prices); shocks have permanent effects; variance grows linearly → inference on levels is invalid; difference the data or use cointegration.\n",
    "- Explosive (ρ=1.5): values blow up exponentially; this is rarely a reasonable data-generating process for real economies (budget constraints, arbitrage, and institutional limits prevent explosive paths). That’s why empiricists emphasize detecting ρ=1, not >1.\n"
   ]
  },
  {
   "attachments": {},
   "cell_type": "markdown",
   "metadata": {},
   "source": [
    "**Problem 5**\n",
    "\n",
    "How would you test this possibility using a single regression and a suitable dummy variable (a dummy variable is a variable that only takes the values 0 and 1"
   ]
  },
  {
   "cell_type": "code",
   "execution_count": 33,
   "metadata": {},
   "outputs": [
    {
     "name": "stdout",
     "output_type": "stream",
     "text": [
      "                            OLS Regression Results                            \n",
      "==============================================================================\n",
      "Dep. Variable:                      y   R-squared:                       0.654\n",
      "Model:                            OLS   Adj. R-squared:                  0.589\n",
      "Method:                 Least Squares   F-statistic:                     10.06\n",
      "Date:                Sat, 13 Sep 2025   Prob (F-statistic):           0.000575\n",
      "Time:                        09:54:00   Log-Likelihood:                -31.077\n",
      "No. Observations:                  20   AIC:                             70.15\n",
      "Df Residuals:                      16   BIC:                             74.14\n",
      "Df Model:                           3                                         \n",
      "Covariance Type:            nonrobust                                         \n",
      "==============================================================================\n",
      "                 coef    std err          t      P>|t|      [0.025      0.975]\n",
      "------------------------------------------------------------------------------\n",
      "const          1.3582      0.408      3.328      0.004       0.493       2.223\n",
      "X              0.5773      0.889      0.650      0.525      -1.306       2.461\n",
      "D              0.9629      0.604      1.595      0.130      -0.317       2.243\n",
      "DX             1.0786      0.939      1.149      0.268      -0.912       3.069\n",
      "==============================================================================\n",
      "Omnibus:                        0.628   Durbin-Watson:                   2.522\n",
      "Prob(Omnibus):                  0.731   Jarque-Bera (JB):                0.625\n",
      "Skew:                          -0.061   Prob(JB):                        0.732\n",
      "Kurtosis:                       2.143   Cond. No.                         7.05\n",
      "==============================================================================\n",
      "\n",
      "Notes:\n",
      "[1] Standard Errors assume that the covariance matrix of the errors is correctly specified.\n"
     ]
    }
   ],
   "source": [
    "# Example data (replace Y, X with actual values)\n",
    "t = np.arange(1, 21)\n",
    "X = np.random.randn(20)\n",
    "Y = 2 + 0.5*X + np.where(t>=11, 1.0*X, 0) + np.random.randn(20)  # sample with slope change\n",
    "\n",
    "D = (t >= 11).astype(int)\n",
    "Xint = D * X\n",
    "\n",
    "Xmat = sm.add_constant(pd.DataFrame({\"X\": X, \"D\": D, \"DX\": Xint}))\n",
    "model = sm.OLS(Y, Xmat).fit()\n",
    "print(model.summary())\n"
   ]
  },
  {
   "cell_type": "code",
   "execution_count": 34,
   "metadata": {},
   "outputs": [
    {
     "name": "stdout",
     "output_type": "stream",
     "text": [
      "<F test: F=1.9022359294180171, p=0.1814904341031912, df_denom=16, df_num=2>\n",
      "                             Test for Constraints                             \n",
      "==============================================================================\n",
      "                 coef    std err          t      P>|t|      [0.025      0.975]\n",
      "------------------------------------------------------------------------------\n",
      "c0             1.0786      0.939      1.149      0.268      -0.912       3.069\n",
      "==============================================================================\n"
     ]
    }
   ],
   "source": [
    "# Tests\n",
    "print(model.f_test(\"D = 0, DX = 0\"))   # joint: no break\n",
    "print(model.t_test(\"DX = 0\"))          # slope-only stability\n"
   ]
  },
  {
   "attachments": {},
   "cell_type": "markdown",
   "metadata": {},
   "source": [
    "**Inference**\n",
    "\n",
    "After estimating the regression, the pre-break slope is β̂ = 0.5773, and the post-break slope is β̂ + θ̂  = 1.656. The joint F-test for the significance of D and D.X yields F = 1.902 with p = 0.181, indicating failure to reject the null hypothesis of parameter stability at t = 10. Therefore, there is no statistical evidence of a structural break, although the post-break slope is numerically larger. Residual diagnostics suggest the model assumptions are reasonably satisfied."
   ]
  },
  {
   "cell_type": "code",
   "execution_count": null,
   "metadata": {},
   "outputs": [],
   "source": []
  }
 ],
 "metadata": {
  "kernelspec": {
   "display_name": "Python 3",
   "language": "python",
   "name": "python3"
  },
  "language_info": {
   "codemirror_mode": {
    "name": "ipython",
    "version": 3
   },
   "file_extension": ".py",
   "mimetype": "text/x-python",
   "name": "python",
   "nbconvert_exporter": "python",
   "pygments_lexer": "ipython3",
   "version": "3.9.12"
  },
  "orig_nbformat": 4
 },
 "nbformat": 4,
 "nbformat_minor": 2
}
